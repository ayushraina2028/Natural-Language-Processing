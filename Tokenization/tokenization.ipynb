{
 "cells": [
  {
   "cell_type": "code",
   "execution_count": 1,
   "metadata": {},
   "outputs": [
    {
     "data": {
      "text/plain": [
       "\"Welcome to Indian Institute of Science. I am Ayush Raina currently in my 3rd year. I am persuing my Bachelor's degree in Mathematics and Computing here.\""
      ]
     },
     "execution_count": 1,
     "metadata": {},
     "output_type": "execute_result"
    }
   ],
   "source": [
    "corpus = \"\"\"Welcome to Indian Institute of Science. I am Ayush Raina currently in my 3rd year. I am persuing my Bachelor's degree in Mathematics and Computing here.\"\"\"\n",
    "\n",
    "corpus"
   ]
  },
  {
   "cell_type": "code",
   "execution_count": 2,
   "metadata": {},
   "outputs": [
    {
     "name": "stdout",
     "output_type": "stream",
     "text": [
      "Welcome to Indian Institute of Science. I am Ayush Raina currently in my 3rd year. I am persuing my Bachelor's degree in Mathematics and Computing here.\n"
     ]
    }
   ],
   "source": [
    "print(corpus)"
   ]
  },
  {
   "cell_type": "code",
   "execution_count": 3,
   "metadata": {},
   "outputs": [],
   "source": [
    "# Tokenization\n",
    "# Paragraphs ---> Sentences\n",
    "\n",
    "from nltk.tokenize import sent_tokenize as sentenceTokenizer\n",
    "documents = sentenceTokenizer(corpus)"
   ]
  },
  {
   "cell_type": "code",
   "execution_count": 4,
   "metadata": {},
   "outputs": [
    {
     "name": "stdout",
     "output_type": "stream",
     "text": [
      "Welcome to Indian Institute of Science.\n",
      "I am Ayush Raina currently in my 3rd year.\n",
      "I am persuing my Bachelor's degree in Mathematics and Computing here.\n"
     ]
    }
   ],
   "source": [
    "for sentence in documents:\n",
    "    print(sentence)"
   ]
  },
  {
   "cell_type": "code",
   "execution_count": 5,
   "metadata": {},
   "outputs": [
    {
     "name": "stdout",
     "output_type": "stream",
     "text": [
      "['Welcome', 'to', 'Indian', 'Institute', 'of', 'Science', '.']\n",
      "['I', 'am', 'Ayush', 'Raina', 'currently', 'in', 'my', '3rd', 'year', '.']\n",
      "['I', 'am', 'persuing', 'my', 'Bachelor', \"'s\", 'degree', 'in', 'Mathematics', 'and', 'Computing', 'here', '.']\n"
     ]
    }
   ],
   "source": [
    "# Tokenization\n",
    "# Paragraphs ---> words || Sentences ---> words \n",
    "\n",
    "from nltk.tokenize import word_tokenize as wordTokenizer\n",
    "for sentence in documents:\n",
    "    print(wordTokenizer(sentence))"
   ]
  },
  {
   "cell_type": "code",
   "execution_count": 6,
   "metadata": {},
   "outputs": [
    {
     "name": "stdout",
     "output_type": "stream",
     "text": [
      "['Ayush', \"'s\", 'notebook', '.']\n",
      "['Ayush', \"'\", 's', 'notebook', '.']\n",
      "['Arnav', 'Bro', '.']\n",
      "['Arnav', 'Bro', '.']\n"
     ]
    }
   ],
   "source": [
    "# wordpunct_tokenize -> treates characters like \" ' \" as separate words\n",
    "corpus2 = \"Ayush's notebook. Arnav Bro.\"\n",
    "from nltk.tokenize import wordpunct_tokenize as wordTokenizer2\n",
    "documents2 = sentenceTokenizer(corpus2)\n",
    "\n",
    "\n",
    "for sentence in documents2:\n",
    "    print(wordTokenizer(sentence))\n",
    "    print(wordTokenizer2(sentence))\n",
    "\n",
    "# Check the difference"
   ]
  },
  {
   "cell_type": "code",
   "execution_count": null,
   "metadata": {},
   "outputs": [],
   "source": []
  },
  {
   "cell_type": "code",
   "execution_count": null,
   "metadata": {},
   "outputs": [],
   "source": []
  },
  {
   "cell_type": "code",
   "execution_count": null,
   "metadata": {},
   "outputs": [],
   "source": []
  },
  {
   "cell_type": "code",
   "execution_count": null,
   "metadata": {},
   "outputs": [],
   "source": []
  }
 ],
 "metadata": {
  "kernelspec": {
   "display_name": "Python 3",
   "language": "python",
   "name": "python3"
  },
  "language_info": {
   "codemirror_mode": {
    "name": "ipython",
    "version": 3
   },
   "file_extension": ".py",
   "mimetype": "text/x-python",
   "name": "python",
   "nbconvert_exporter": "python",
   "pygments_lexer": "ipython3",
   "version": "3.11.9"
  }
 },
 "nbformat": 4,
 "nbformat_minor": 2
}
